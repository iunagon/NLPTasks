{
 "cells": [
  {
   "cell_type": "code",
   "execution_count": 1,
   "id": "2627ff99",
   "metadata": {},
   "outputs": [
    {
     "data": {
      "text/plain": [
       "FreqDist({'and': 3, 'at': 3, 'University': 3, 'in': 2, 'the': 2, 'of': 2, 'to': 2, 'he': 2, 'Musk': 1, 'was': 1, ...})"
      ]
     },
     "execution_count": 1,
     "metadata": {},
     "output_type": "execute_result"
    }
   ],
   "source": [
    "import nltk\n",
    "text1=\"Musk was born in Pretoria, South Africa and briefly attended at the University of Pretoria before moving to Canada at age 18, acquiring citizenship through his Canadian-born mother. Two years later, he matriculated at Queen's University and transferred to the University of Pennsylvania, where he received bachelor's degrees in economics and physics.\"\n",
    "fd=nltk.FreqDist(text1.split())\n",
    "fd"
   ]
  },
  {
   "cell_type": "code",
   "execution_count": 2,
   "id": "9aa42d10",
   "metadata": {},
   "outputs": [
    {
     "data": {
      "text/plain": [
       "FreqDist({'and': 3, 'the': 2, 'was': 1, 'age': 1, '18,': 1, 'his': 1, 'Two': 1})"
      ]
     },
     "execution_count": 2,
     "metadata": {},
     "output_type": "execute_result"
    }
   ],
   "source": [
    "from nltk.probability import ConditionalFreqDist\n",
    "cfd=ConditionalFreqDist((len(word),word) for word in text1.split())\n",
    "cfd[3]"
   ]
  },
  {
   "cell_type": "code",
   "execution_count": 3,
   "id": "6ee90196",
   "metadata": {},
   "outputs": [
    {
     "data": {
      "text/plain": [
       "<ConditionalFreqDist with 12 conditions>"
      ]
     },
     "execution_count": 3,
     "metadata": {},
     "output_type": "execute_result"
    }
   ],
   "source": [
    "cfd"
   ]
  },
  {
   "cell_type": "code",
   "execution_count": 4,
   "id": "ce4e4009",
   "metadata": {
    "scrolled": true
   },
   "outputs": [
    {
     "data": {
      "text/plain": [
       "['1789-Washington.txt',\n",
       " '1793-Washington.txt',\n",
       " '1797-Adams.txt',\n",
       " '1801-Jefferson.txt',\n",
       " '1805-Jefferson.txt',\n",
       " '1809-Madison.txt',\n",
       " '1813-Madison.txt',\n",
       " '1817-Monroe.txt',\n",
       " '1821-Monroe.txt',\n",
       " '1825-Adams.txt',\n",
       " '1829-Jackson.txt',\n",
       " '1833-Jackson.txt',\n",
       " '1837-VanBuren.txt',\n",
       " '1841-Harrison.txt',\n",
       " '1845-Polk.txt',\n",
       " '1849-Taylor.txt',\n",
       " '1853-Pierce.txt',\n",
       " '1857-Buchanan.txt',\n",
       " '1861-Lincoln.txt',\n",
       " '1865-Lincoln.txt',\n",
       " '1869-Grant.txt',\n",
       " '1873-Grant.txt',\n",
       " '1877-Hayes.txt',\n",
       " '1881-Garfield.txt',\n",
       " '1885-Cleveland.txt',\n",
       " '1889-Harrison.txt',\n",
       " '1893-Cleveland.txt',\n",
       " '1897-McKinley.txt',\n",
       " '1901-McKinley.txt',\n",
       " '1905-Roosevelt.txt',\n",
       " '1909-Taft.txt',\n",
       " '1913-Wilson.txt',\n",
       " '1917-Wilson.txt',\n",
       " '1921-Harding.txt',\n",
       " '1925-Coolidge.txt',\n",
       " '1929-Hoover.txt',\n",
       " '1933-Roosevelt.txt',\n",
       " '1937-Roosevelt.txt',\n",
       " '1941-Roosevelt.txt',\n",
       " '1945-Roosevelt.txt',\n",
       " '1949-Truman.txt',\n",
       " '1953-Eisenhower.txt',\n",
       " '1957-Eisenhower.txt',\n",
       " '1961-Kennedy.txt',\n",
       " '1965-Johnson.txt',\n",
       " '1969-Nixon.txt',\n",
       " '1973-Nixon.txt',\n",
       " '1977-Carter.txt',\n",
       " '1981-Reagan.txt',\n",
       " '1985-Reagan.txt',\n",
       " '1989-Bush.txt',\n",
       " '1993-Clinton.txt',\n",
       " '1997-Clinton.txt',\n",
       " '2001-Bush.txt',\n",
       " '2005-Bush.txt',\n",
       " '2009-Obama.txt',\n",
       " '2013-Obama.txt',\n",
       " '2017-Trump.txt',\n",
       " '2021-Biden.txt']"
      ]
     },
     "execution_count": 4,
     "metadata": {},
     "output_type": "execute_result"
    }
   ],
   "source": [
    "from nltk.corpus import inaugural\n",
    "inaugural.fileids()"
   ]
  },
  {
   "cell_type": "code",
   "execution_count": 9,
   "id": "4697fe91",
   "metadata": {},
   "outputs": [
    {
     "data": {
      "text/plain": [
       "'2009-Obama.txt'"
      ]
     },
     "execution_count": 9,
     "metadata": {},
     "output_type": "execute_result"
    }
   ],
   "source": [
    "'2009-Obama.txt'\n",
    "\n"
   ]
  },
  {
   "cell_type": "code",
   "execution_count": 10,
   "id": "45afb760",
   "metadata": {},
   "outputs": [],
   "source": [
    "cfd=ConditionalFreqDist((len(word),word) for word in inaugural.words('2009-Obama.txt'))"
   ]
  },
  {
   "cell_type": "code",
   "execution_count": 11,
   "id": "d481998f",
   "metadata": {},
   "outputs": [
    {
     "data": {
      "text/plain": [
       "FreqDist({'that': 48, 'this': 20, 'will': 19, 'have': 16, 'with': 11, 'they': 11, 'been': 8, 'must': 8, 'than': 8, 'when': 7, ...})"
      ]
     },
     "execution_count": 11,
     "metadata": {},
     "output_type": "execute_result"
    }
   ],
   "source": [
    "cfd[4]"
   ]
  },
  {
   "cell_type": "code",
   "execution_count": 23,
   "id": "32f35ee1",
   "metadata": {
    "scrolled": false
   },
   "outputs": [],
   "source": [
    "import jieba"
   ]
  },
  {
   "cell_type": "code",
   "execution_count": 26,
   "id": "c01c1fa5",
   "metadata": {},
   "outputs": [
    {
     "name": "stdout",
     "output_type": "stream",
     "text": [
      "度 のラ・リーガ、 7 度 のコパ・デル・レイ、 度 のチャンピオンズリーグを 含 むバルセロナ 歴 代 最多 35 回 のタイトル 獲 得 に 貢 献 し、クラブ 歴 代 通 算 最多 得 点 （ 672 ゴール）の 記 録 を 保持 しており、ラ・リーガ（ 474 ゴール） 歴 代 最多 ゴール 記 録 、チャンピオンズリーグ 歴 代 最多 ハットトリック 記 録 （ 8 ）、ラ・リーガ 歴 代 最多 アシスト 記 録    を 保持 している。また、 歴 代 最多 7 度 のバロンドールを 受 賞 し[ 注     2 ]、 6 度 のチャンピオンズリーグ 得 点 王 と 歴 代 最多 6 度 のゴールデンシューを 獲 得 し、 多 くのサッカー 関 係 者 や 選 手 に 世界 最高 最高峰 高峰 のサッカー 選 手 と 称 されている\n"
     ]
    }
   ],
   "source": [
    "seg=jieba.cut(\"度のラ・リーガ、7度のコパ・デル・レイ、度のチャンピオンズリーグを含むバルセロナ歴代最多35回のタイトル獲得に貢献し、クラブ歴代通算最多得点（672ゴール）の記録を保持しており、ラ・リーガ（474ゴール）歴代最多ゴール記録、チャンピオンズリーグ歴代最多ハットトリック記録（8）、ラ・リーガ歴代最多アシスト記録 を保持している。また、歴代最多7度のバロンドールを受賞し[注 2]、6度のチャンピオンズリーグ得点王と歴代最多6度のゴールデンシューを獲得し、多くのサッカー関係者や選手に世界最高峰のサッカー選手と称されている\",cut_all=True)\n",
    "print(\" \".join(seg))"
   ]
  },
  {
   "cell_type": "code",
   "execution_count": null,
   "id": "b70cf91d",
   "metadata": {},
   "outputs": [],
   "source": []
  },
  {
   "cell_type": "code",
   "execution_count": 21,
   "id": "4852640f",
   "metadata": {},
   "outputs": [
    {
     "name": "stdout",
     "output_type": "stream",
     "text": [
      "['Born', 'and', 'raised', 'in', 'central', 'Argentina', ',', 'Messi', 'relocated', 'to', 'Spain', 'at', 'the', 'age', 'of', '13', 'to', 'join', 'Barcelona', ',', 'for', 'whom', 'he', 'made', 'his', 'competitive', 'debut', 'aged', '17', 'in', 'October', '2004', '.']\n",
      "[('Born', 'NNP'), ('and', 'CC'), ('raised', 'VBN'), ('in', 'IN'), ('central', 'JJ'), ('Argentina', 'NNP'), (',', ','), ('Messi', 'NNP'), ('relocated', 'VBD'), ('to', 'TO'), ('Spain', 'NNP'), ('at', 'IN'), ('the', 'DT'), ('age', 'NN'), ('of', 'IN'), ('13', 'CD'), ('to', 'TO'), ('join', 'VB'), ('Barcelona', 'NNP'), (',', ','), ('for', 'IN'), ('whom', 'WP'), ('he', 'PRP'), ('made', 'VBD'), ('his', 'PRP$'), ('competitive', 'JJ'), ('debut', 'NN'), ('aged', 'VBD'), ('17', 'CD'), ('in', 'IN'), ('October', 'NNP'), ('2004', 'CD'), ('.', '.')]\n",
      "['He', 'established', 'himself', 'as', 'an', 'integral', 'player', 'for', 'the', 'club', 'within', 'the', 'next', 'three', 'years', ',', 'and', 'in', 'his', 'first', 'uninterrupted', 'season', 'in', '2008–09', 'he', 'helped', 'Barcelona', 'achieve', 'the', 'first', 'treble', 'in', 'Spanish', 'football', ';', 'that', 'year', ',', 'aged', '22', ',', 'Messi', 'won', 'his', 'first', 'Ballon', \"d'Or\", '.']\n",
      "[('He', 'PRP'), ('established', 'VBD'), ('himself', 'PRP'), ('as', 'IN'), ('an', 'DT'), ('integral', 'JJ'), ('player', 'NN'), ('for', 'IN'), ('the', 'DT'), ('club', 'NN'), ('within', 'IN'), ('the', 'DT'), ('next', 'JJ'), ('three', 'CD'), ('years', 'NNS'), (',', ','), ('and', 'CC'), ('in', 'IN'), ('his', 'PRP$'), ('first', 'JJ'), ('uninterrupted', 'JJ'), ('season', 'NN'), ('in', 'IN'), ('2008–09', 'CD'), ('he', 'PRP'), ('helped', 'VBD'), ('Barcelona', 'NNP'), ('achieve', 'VB'), ('the', 'DT'), ('first', 'JJ'), ('treble', 'JJ'), ('in', 'IN'), ('Spanish', 'JJ'), ('football', 'NN'), (';', ':'), ('that', 'IN'), ('year', 'NN'), (',', ','), ('aged', 'VBD'), ('22', 'CD'), (',', ','), ('Messi', 'NNP'), ('won', 'VBD'), ('his', 'PRP$'), ('first', 'JJ'), ('Ballon', 'NNP'), (\"d'Or\", 'NN'), ('.', '.')]\n",
      "['Three', 'successful', 'seasons', 'followed', ',', 'with', 'Messi', 'winning', 'four', 'consecutive', 'Ballons', \"d'Or\", ',', 'making', 'him', 'the', 'first', 'player', 'to', 'win', 'the', 'award', 'four', 'times', '.']\n",
      "[('Three', 'CD'), ('successful', 'JJ'), ('seasons', 'NNS'), ('followed', 'VBD'), (',', ','), ('with', 'IN'), ('Messi', 'NNP'), ('winning', 'VBG'), ('four', 'CD'), ('consecutive', 'JJ'), ('Ballons', 'NNP'), (\"d'Or\", 'NN'), (',', ','), ('making', 'VBG'), ('him', 'PRP'), ('the', 'DT'), ('first', 'JJ'), ('player', 'NN'), ('to', 'TO'), ('win', 'VB'), ('the', 'DT'), ('award', 'NN'), ('four', 'CD'), ('times', 'NNS'), ('.', '.')]\n"
     ]
    }
   ],
   "source": [
    "texts=[\"\"\"Born and raised in central Argentina, Messi relocated to Spain at the age of 13 to join Barcelona, for whom he made his competitive debut aged 17 in October 2004. He established himself as an integral player for the club within the next three years, and in his first uninterrupted season in 2008–09 he helped Barcelona achieve the first treble in Spanish football; that year, aged 22, Messi won his first Ballon d'Or. Three successful seasons followed, with Messi winning four consecutive Ballons d'Or, making him the first player to win the award four times.\"\"\"]\n",
    "for text in texts:\n",
    "    sentences=nltk.sent_tokenize(text)\n",
    "    for sentence in sentences:\n",
    "        words=nltk.word_tokenize(sentence)\n",
    "        print(words)\n",
    "        tagged=nltk.pos_tag(words)\n",
    "        print(tagged)\n",
    "                        "
   ]
  },
  {
   "cell_type": "code",
   "execution_count": null,
   "id": "95bacab0",
   "metadata": {},
   "outputs": [],
   "source": []
  }
 ],
 "metadata": {
  "kernelspec": {
   "display_name": "Python 3 (ipykernel)",
   "language": "python",
   "name": "python3"
  },
  "language_info": {
   "codemirror_mode": {
    "name": "ipython",
    "version": 3
   },
   "file_extension": ".py",
   "mimetype": "text/x-python",
   "name": "python",
   "nbconvert_exporter": "python",
   "pygments_lexer": "ipython3",
   "version": "3.9.13"
  }
 },
 "nbformat": 4,
 "nbformat_minor": 5
}
