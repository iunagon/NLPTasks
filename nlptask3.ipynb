{
 "cells": [
  {
   "cell_type": "code",
   "execution_count": 1,
   "id": "de312c38",
   "metadata": {},
   "outputs": [],
   "source": [
    "import nltk"
   ]
  },
  {
   "cell_type": "code",
   "execution_count": 2,
   "id": "13696bbf",
   "metadata": {},
   "outputs": [],
   "source": [
    "#task 1\n",
    "def gender_features(word):\n",
    "    return {'last_letter':word[-1]}"
   ]
  },
  {
   "cell_type": "code",
   "execution_count": 3,
   "id": "cfeef98c",
   "metadata": {},
   "outputs": [],
   "source": [
    "from nltk.corpus import names"
   ]
  },
  {
   "cell_type": "code",
   "execution_count": 5,
   "id": "58fc06ce",
   "metadata": {},
   "outputs": [],
   "source": [
    "labeled_names=([(name,'male') for name in names.words('male.txt')]+\n",
    "               [(name,'female') for name in names.words('female.txt')])\n",
    "               "
   ]
  },
  {
   "cell_type": "code",
   "execution_count": 17,
   "id": "ba517fd0",
   "metadata": {},
   "outputs": [
    {
     "name": "stdout",
     "output_type": "stream",
     "text": [
      "0.802\n"
     ]
    }
   ],
   "source": [
    "import random\n",
    "random.shuffle(labeled_names)\n",
    "# print(labeled_names)\n",
    "\n",
    "featuresets=[(gender_features(n),gender) for (n,gender) in labeled_names]\n",
    "# print(len(featuresets))\n",
    "\n",
    "train_set,test_set =featuresets[500:],featuresets[:500]\n",
    "\n",
    "classifier=nltk.NaiveBayesClassifier.train(train_set)\n",
    "classifier.classify(gender_features('Thomas'))\n",
    "\n",
    "print(nltk.classify.accuracy(classifier,test_set))"
   ]
  },
  {
   "cell_type": "code",
   "execution_count": 24,
   "id": "6fa3bb7e",
   "metadata": {},
   "outputs": [
    {
     "data": {
      "text/plain": [
       "['The', 'Party', 'was', 'soo', 'fun', ':D', '\\U0001f979', '#superfun']"
      ]
     },
     "execution_count": 24,
     "metadata": {},
     "output_type": "execute_result"
    }
   ],
   "source": [
    "\n",
    "#TASK 2\n",
    "import nltk\n",
    "from nltk.tokenize import TweetTokenizer\n",
    "text='The Party was soo fun :D 🥹 #superfun'\n",
    "twtkn=TweetTokenizer()\n",
    "twtkn.tokenize(text)\n",
    "\n"
   ]
  },
  {
   "cell_type": "code",
   "execution_count": 25,
   "id": "24470d6b",
   "metadata": {},
   "outputs": [
    {
     "name": "stdout",
     "output_type": "stream",
     "text": [
      "['The', 'Party', 'was', 'soo', 'fun', ':', 'D', '\\U0001f979', '#', 'superfun']\n"
     ]
    }
   ],
   "source": [
    "words=nltk.word_tokenize(text)\n",
    "print(words)"
   ]
  },
  {
   "cell_type": "code",
   "execution_count": null,
   "id": "f2371553",
   "metadata": {},
   "outputs": [],
   "source": [
    "\n"
   ]
  }
 ],
 "metadata": {
  "kernelspec": {
   "display_name": "Python 3 (ipykernel)",
   "language": "python",
   "name": "python3"
  },
  "language_info": {
   "codemirror_mode": {
    "name": "ipython",
    "version": 3
   },
   "file_extension": ".py",
   "mimetype": "text/x-python",
   "name": "python",
   "nbconvert_exporter": "python",
   "pygments_lexer": "ipython3",
   "version": "3.9.13"
  }
 },
 "nbformat": 4,
 "nbformat_minor": 5
}
